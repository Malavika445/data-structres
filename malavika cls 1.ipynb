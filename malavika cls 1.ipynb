{
 "cells": [
  {
   "cell_type": "code",
   "execution_count": null,
   "id": "8fe111e0",
   "metadata": {},
   "outputs": [],
   "source": [
    "\n"
   ]
  },
  {
   "cell_type": "markdown",
   "id": "898d3181",
   "metadata": {},
   "source": [
    "Basics of python"
   ]
  },
  {
   "cell_type": "markdown",
   "id": "80f44f47",
   "metadata": {},
   "source": [
    "Rules for naming the variables:\n"
   ]
  },
  {
   "cell_type": "raw",
   "id": "dff1875e",
   "metadata": {},
   "source": [
    "variable can have alphabets [A-Z,a-z]\n",
    "variable name should not start with a number\n",
    "variables do not allow special characters other than underscore"
   ]
  },
  {
   "cell_type": "code",
   "execution_count": 38,
   "id": "c357dedd",
   "metadata": {},
   "outputs": [
    {
     "data": {
      "text/plain": [
       "['DS with python', 'BA with python']"
      ]
     },
     "execution_count": 38,
     "metadata": {},
     "output_type": "execute_result"
    }
   ],
   "source": [
    "b2ooks=[\"DS with python\",\"BA with python\"]\n",
    "b2ooks"
   ]
  },
  {
   "cell_type": "code",
   "execution_count": 39,
   "id": "6ebfafe7",
   "metadata": {},
   "outputs": [
    {
     "data": {
      "text/plain": [
       "['DS with python', 'BA with python']"
      ]
     },
     "execution_count": 39,
     "metadata": {},
     "output_type": "execute_result"
    }
   ],
   "source": [
    "books_lists=[\"DS with python\",\"BA with python\"]\n",
    "books_lists"
   ]
  },
  {
   "cell_type": "code",
   "execution_count": 40,
   "id": "05be10c8",
   "metadata": {},
   "outputs": [
    {
     "name": "stdout",
     "output_type": "stream",
     "text": [
      "malavika\n"
     ]
    }
   ],
   "source": [
    "print(\"malavika\")"
   ]
  },
  {
   "cell_type": "markdown",
   "id": "3f49e72a",
   "metadata": {},
   "source": [
    "DATA STRUCTURES"
   ]
  },
  {
   "cell_type": "code",
   "execution_count": 41,
   "id": "85590bb5",
   "metadata": {},
   "outputs": [
    {
     "data": {
      "text/plain": [
       "[1, 13.6, 'hi', 12, 1]"
      ]
     },
     "execution_count": 41,
     "metadata": {},
     "output_type": "execute_result"
    }
   ],
   "source": [
    "sample_lists=[1,13.6,\"hi\",12,1]\n",
    "sample_lists"
   ]
  },
  {
   "cell_type": "code",
   "execution_count": 42,
   "id": "6151e97f",
   "metadata": {},
   "outputs": [
    {
     "data": {
      "text/plain": [
       "list"
      ]
     },
     "execution_count": 42,
     "metadata": {},
     "output_type": "execute_result"
    }
   ],
   "source": [
    "type(sample_lists)"
   ]
  },
  {
   "cell_type": "code",
   "execution_count": 43,
   "id": "6ca1e617",
   "metadata": {},
   "outputs": [
    {
     "ename": "NameError",
     "evalue": "name 'sample_list' is not defined",
     "output_type": "error",
     "traceback": [
      "\u001b[1;31m---------------------------------------------------------------------------\u001b[0m",
      "\u001b[1;31mNameError\u001b[0m                                 Traceback (most recent call last)",
      "\u001b[1;32m~\\AppData\\Local\\Temp\\ipykernel_8760\\2988254472.py\u001b[0m in \u001b[0;36m<module>\u001b[1;34m\u001b[0m\n\u001b[1;32m----> 1\u001b[1;33m \u001b[0msample_list\u001b[0m\u001b[1;33m[\u001b[0m\u001b[1;36m1\u001b[0m\u001b[1;33m]\u001b[0m\u001b[1;33m\u001b[0m\u001b[1;33m\u001b[0m\u001b[0m\n\u001b[0m",
      "\u001b[1;31mNameError\u001b[0m: name 'sample_list' is not defined"
     ]
    }
   ],
   "source": [
    "sample_list[1]"
   ]
  },
  {
   "cell_type": "code",
   "execution_count": null,
   "id": "d44dec70",
   "metadata": {},
   "outputs": [],
   "source": [
    "sample_lists[1]"
   ]
  },
  {
   "cell_type": "raw",
   "id": "6eb79f4d",
   "metadata": {},
   "source": [
    "##list->elements are separated by comma and enclosed with square bracket\n",
    "##heterogenous\n",
    "##list can be retrieved using index\n",
    "##muttable can make the changes after creating the list"
   ]
  },
  {
   "cell_type": "markdown",
   "id": "50fbb1d6",
   "metadata": {},
   "source": [
    "TUPLES"
   ]
  },
  {
   "cell_type": "raw",
   "id": "6a8b6131",
   "metadata": {},
   "source": [
    "##Heterogenous\n",
    "##Paranthesis\n",
    "##Can retrive data using index\n",
    "##immutable"
   ]
  },
  {
   "cell_type": "code",
   "execution_count": null,
   "id": "c631c0da",
   "metadata": {},
   "outputs": [],
   "source": [
    "sample_tuple=(1,13.6,\"hi\",22,11)\n",
    "tuple"
   ]
  },
  {
   "cell_type": "code",
   "execution_count": null,
   "id": "6e4fcc8f",
   "metadata": {},
   "outputs": [],
   "source": [
    "\n"
   ]
  },
  {
   "cell_type": "code",
   "execution_count": null,
   "id": "6e328e8d",
   "metadata": {},
   "outputs": [],
   "source": []
  },
  {
   "cell_type": "code",
   "execution_count": null,
   "id": "6a4da942",
   "metadata": {},
   "outputs": [],
   "source": []
  },
  {
   "cell_type": "markdown",
   "id": "5fed51de",
   "metadata": {},
   "source": [
    "SET"
   ]
  },
  {
   "cell_type": "raw",
   "id": "9eaaab14",
   "metadata": {},
   "source": [
    "doesnot allow duplicates\n",
    "ordered -first places\n",
    "in set,elements cannot be retrived using index\n",
    "set is muttable"
   ]
  },
  {
   "cell_type": "code",
   "execution_count": null,
   "id": "10986d72",
   "metadata": {},
   "outputs": [],
   "source": [
    "sample_set={1,13.6,\"hi\",12,1,127,25,\"apple\",\"king\",\"ball\"}\n",
    "sample_set"
   ]
  },
  {
   "cell_type": "code",
   "execution_count": null,
   "id": "a968aa54",
   "metadata": {},
   "outputs": [],
   "source": [
    "sample_set.remove(12)"
   ]
  },
  {
   "cell_type": "code",
   "execution_count": null,
   "id": "50030129",
   "metadata": {},
   "outputs": [],
   "source": [
    "sample_set"
   ]
  },
  {
   "cell_type": "code",
   "execution_count": null,
   "id": "4673fd1b",
   "metadata": {},
   "outputs": [],
   "source": []
  },
  {
   "cell_type": "code",
   "execution_count": null,
   "id": "895a1be9",
   "metadata": {},
   "outputs": [],
   "source": [
    "sample_set.add(1000)"
   ]
  },
  {
   "cell_type": "code",
   "execution_count": null,
   "id": "f4f9d1e7",
   "metadata": {},
   "outputs": [],
   "source": [
    "sample_set"
   ]
  },
  {
   "cell_type": "code",
   "execution_count": null,
   "id": "b41fae83",
   "metadata": {},
   "outputs": [],
   "source": [
    "sample_set.remove(\"hi\")"
   ]
  },
  {
   "cell_type": "code",
   "execution_count": null,
   "id": "006a3978",
   "metadata": {},
   "outputs": [],
   "source": [
    "sample_set"
   ]
  },
  {
   "cell_type": "markdown",
   "id": "b4f5a482",
   "metadata": {},
   "source": [
    "Dictionary\n"
   ]
  },
  {
   "cell_type": "raw",
   "id": "b4ced061",
   "metadata": {},
   "source": [
    "Has key-value pair data structure\n",
    "key is unique\n",
    "values can be duplicated\n",
    "values can be retrived using key\n",
    "key cannot be retrived using value"
   ]
  },
  {
   "cell_type": "code",
   "execution_count": 44,
   "id": "b220546c",
   "metadata": {},
   "outputs": [
    {
     "data": {
      "text/plain": [
       "{1: 'apple', 2: 'hi', 3: 'data', 6: 35}"
      ]
     },
     "execution_count": 44,
     "metadata": {},
     "output_type": "execute_result"
    }
   ],
   "source": [
    "sample_dict={1:\"apple\",2:35.3,3:\"data\",2:\"every\",6:35,2:\"hi\"}\n",
    "sample_dict"
   ]
  },
  {
   "cell_type": "code",
   "execution_count": 45,
   "id": "bffea80b",
   "metadata": {},
   "outputs": [],
   "source": [
    "sample_dict[6]=100"
   ]
  },
  {
   "cell_type": "code",
   "execution_count": 46,
   "id": "bca36307",
   "metadata": {},
   "outputs": [
    {
     "data": {
      "text/plain": [
       "{1: 'apple', 2: 'hi', 3: 'data', 6: 100}"
      ]
     },
     "execution_count": 46,
     "metadata": {},
     "output_type": "execute_result"
    }
   ],
   "source": [
    "sample_dict"
   ]
  },
  {
   "cell_type": "code",
   "execution_count": null,
   "id": "4c3f79f0",
   "metadata": {},
   "outputs": [],
   "source": []
  }
 ],
 "metadata": {
  "kernelspec": {
   "display_name": "Python 3 (ipykernel)",
   "language": "python",
   "name": "python3"
  },
  "language_info": {
   "codemirror_mode": {
    "name": "ipython",
    "version": 3
   },
   "file_extension": ".py",
   "mimetype": "text/x-python",
   "name": "python",
   "nbconvert_exporter": "python",
   "pygments_lexer": "ipython3",
   "version": "3.9.13"
  }
 },
 "nbformat": 4,
 "nbformat_minor": 5
}
